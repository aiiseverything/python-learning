{
 "cells": [
  {
   "attachments": {},
   "cell_type": "markdown",
   "metadata": {},
   "source": [
    "## 0. 预备知识\n",
    "\n",
    "- Python 中的语句可以直接执行，不需要像 C/C++ 一样写在 main 函数里\n",
    "- 用 `#` 表示从此开始到行尾都是注释，类似于 C/C++ 中的 `//` 的用法\n",
    "- Python 中的数据都是保存在 `对象` 中，像 `123` 这样的数字也是对象\n",
    "- 变量赋值不用事先声明、不用写类型，例如 `a = 123`\n",
    "  - 按 C/C++ 理解，变量都是 `object*` 类型的指针，所以可以指向任意的对象\n",
    "  - 数组都是 `object*[]` 类型，所以可以混着存任意的对象\n",
    "- 用 `type(x)` 函数获取对象类型，用 `dir(x)` 函数获取对象的方法，用 `id(x)` 函数获取对象的 ID，其实是对象的地址，类似 `(size_t)&x`\n",
    "\n",
    "```\n",
    "例子：\n",
    "a = 43  # 在内存中申请一个空间存放 43，再用 a 指向它，id(a) 为 6\n",
    "b = a   # 将 b 指向 a 指向的东西，id(b) 为 6\n",
    "c = 77  # 在内存中申请一个空间存放 7，再用 c 指向它，id(c) 为 1\n",
    "\n",
    "内存地址： 0  1  2  3  4  5  6  7  8\n",
    "         +--+--+--+--+--+--+--+--+--+\n",
    "内存：    |77|  |  |  |  |  |43|  |  |\n",
    "         +--+--+--+--+--+--+--+--+--+\n",
    "           ↑                 ↑↖\n",
    "           c                 a  b\n",
    "```\n",
    "\n",
    "- `print(x)` 函数用于输出指定内容，例如 `print(123)`，也可以传入多个值，如 `print(1, 2, 3)`\n"
   ]
  },
  {
   "attachments": {},
   "cell_type": "markdown",
   "metadata": {},
   "source": [
    "## 1. 常见数据类型\n",
    "\n",
    "| 类型     | 名称   | 例子                     |\n",
    "| -------- | ------ | ------------------------ |\n",
    "| int      | 整数   | `-100`                   |\n",
    "| complex  | 复数   | `1 + 2j`                 |\n",
    "| bool     | 布尔型 | 只有 `True` 和 `False`   |\n",
    "| float    | 浮点数 | `3.1416`                 |\n",
    "| str      | 字符串 | `'hello', \"abc\"`         |\n",
    "| list     | 列表   | `[1, 0.3, 'hello']`      |\n",
    "| tuple    | 元组   | `('hello', 10)`          |\n",
    "| set      | 集合   | `{1, 2, 3}`              |\n",
    "| dict     | 字典   | `{'dogs': 5, 'pigs': 3}` |\n",
    "| NoneType |        | 只有 `None`              |\n",
    "\n",
    "注意：\n",
    "\n",
    "- int 没有大小限制，可以做任意大的整数运算\n",
    "- float 是 64 位浮点数，相当于 C/C++ 中的 double 类型\n",
    "- bool 类型只有首字母大写的 `True` 和 `False`\n",
    "- NoneType 是特殊的类型，它只有 `None` 这一个值/对象实例，通常被用来表示空值，类似于 C++ 中的 `nullptr`\n"
   ]
  },
  {
   "attachments": {},
   "cell_type": "markdown",
   "metadata": {},
   "source": [
    "### 1.1 数值运算\n"
   ]
  },
  {
   "cell_type": "code",
   "execution_count": 1,
   "metadata": {},
   "outputs": [
    {
     "data": {
      "text/plain": [
       "3"
      ]
     },
     "execution_count": 1,
     "metadata": {},
     "output_type": "execute_result"
    }
   ],
   "source": [
    "1 + 2"
   ]
  },
  {
   "cell_type": "code",
   "execution_count": 2,
   "metadata": {},
   "outputs": [
    {
     "data": {
      "text/plain": [
       "-1"
      ]
     },
     "execution_count": 2,
     "metadata": {},
     "output_type": "execute_result"
    }
   ],
   "source": [
    "1 - 2"
   ]
  },
  {
   "cell_type": "code",
   "execution_count": 3,
   "metadata": {},
   "outputs": [
    {
     "data": {
      "text/plain": [
       "6"
      ]
     },
     "execution_count": 3,
     "metadata": {},
     "output_type": "execute_result"
    }
   ],
   "source": [
    "2 * 3"
   ]
  },
  {
   "cell_type": "code",
   "execution_count": 4,
   "metadata": {},
   "outputs": [
    {
     "data": {
      "text/plain": [
       "2.0"
      ]
     },
     "execution_count": 4,
     "metadata": {},
     "output_type": "execute_result"
    }
   ],
   "source": [
    "4 / 2  # 注意：无论结果在数学上是否是整数，一定是 float 类型"
   ]
  },
  {
   "cell_type": "code",
   "execution_count": 5,
   "metadata": {},
   "outputs": [
    {
     "data": {
      "text/plain": [
       "2"
      ]
     },
     "execution_count": 5,
     "metadata": {},
     "output_type": "execute_result"
    }
   ],
   "source": [
    "5 // 2  # 向下取整除法"
   ]
  },
  {
   "cell_type": "code",
   "execution_count": 6,
   "metadata": {},
   "outputs": [
    {
     "data": {
      "text/plain": [
       "1"
      ]
     },
     "execution_count": 6,
     "metadata": {},
     "output_type": "execute_result"
    }
   ],
   "source": [
    "5 % 2  # 取余"
   ]
  },
  {
   "cell_type": "code",
   "execution_count": 7,
   "metadata": {},
   "outputs": [
    {
     "data": {
      "text/plain": [
       "1024"
      ]
     },
     "execution_count": 7,
     "metadata": {},
     "output_type": "execute_result"
    }
   ],
   "source": [
    "2**10  # 幂次"
   ]
  },
  {
   "cell_type": "code",
   "execution_count": 8,
   "metadata": {},
   "outputs": [
    {
     "name": "stdout",
     "output_type": "stream",
     "text": [
      "1\n",
      "3\n"
     ]
    }
   ],
   "source": [
    "# 这些运算也支持 原地(in place) 运算，例如\n",
    "a = 1\n",
    "print(a)\n",
    "a += 2\n",
    "print(a)"
   ]
  },
  {
   "cell_type": "code",
   "execution_count": 9,
   "metadata": {},
   "outputs": [
    {
     "data": {
      "text/plain": [
       "False"
      ]
     },
     "execution_count": 9,
     "metadata": {},
     "output_type": "execute_result"
    }
   ],
   "source": [
    "# 逻辑运算\n",
    "True and False"
   ]
  },
  {
   "cell_type": "code",
   "execution_count": 10,
   "metadata": {},
   "outputs": [
    {
     "data": {
      "text/plain": [
       "True"
      ]
     },
     "execution_count": 10,
     "metadata": {},
     "output_type": "execute_result"
    }
   ],
   "source": [
    "True or False"
   ]
  },
  {
   "cell_type": "code",
   "execution_count": 11,
   "metadata": {},
   "outputs": [
    {
     "data": {
      "text/plain": [
       "False"
      ]
     },
     "execution_count": 11,
     "metadata": {},
     "output_type": "execute_result"
    }
   ],
   "source": [
    "not True"
   ]
  },
  {
   "cell_type": "code",
   "execution_count": 12,
   "metadata": {},
   "outputs": [
    {
     "data": {
      "text/plain": [
       "3"
      ]
     },
     "execution_count": 12,
     "metadata": {},
     "output_type": "execute_result"
    }
   ],
   "source": [
    "abs(-3)  # 绝对值"
   ]
  },
  {
   "cell_type": "code",
   "execution_count": 13,
   "metadata": {},
   "outputs": [
    {
     "data": {
      "text/plain": [
       "3"
      ]
     },
     "execution_count": 13,
     "metadata": {},
     "output_type": "execute_result"
    }
   ],
   "source": [
    "min(3, 4)"
   ]
  },
  {
   "cell_type": "code",
   "execution_count": 14,
   "metadata": {},
   "outputs": [
    {
     "data": {
      "text/plain": [
       "4"
      ]
     },
     "execution_count": 14,
     "metadata": {},
     "output_type": "execute_result"
    }
   ],
   "source": [
    "max(3, 4)"
   ]
  },
  {
   "cell_type": "code",
   "execution_count": 15,
   "metadata": {},
   "outputs": [
    {
     "data": {
      "text/plain": [
       "-3"
      ]
     },
     "execution_count": 15,
     "metadata": {},
     "output_type": "execute_result"
    }
   ],
   "source": [
    "int(-3.9)  # 向 0 取整"
   ]
  },
  {
   "cell_type": "code",
   "execution_count": 16,
   "metadata": {},
   "outputs": [
    {
     "data": {
      "text/plain": [
       "-4"
      ]
     },
     "execution_count": 16,
     "metadata": {},
     "output_type": "execute_result"
    }
   ],
   "source": [
    "round(-3.9)  # 就近取整"
   ]
  },
  {
   "cell_type": "code",
   "execution_count": 17,
   "metadata": {},
   "outputs": [
    {
     "data": {
      "text/plain": [
       "(1e-06, 255, 55, 14)"
      ]
     },
     "execution_count": 17,
     "metadata": {},
     "output_type": "execute_result"
    }
   ],
   "source": [
    "# 科学计数法（e），16进制（0x前缀），8进制（0o前缀），2进制（0b前缀）\n",
    "1e-6, 0xFF, 0o67, 0b1110"
   ]
  },
  {
   "attachments": {},
   "cell_type": "markdown",
   "metadata": {},
   "source": [
    "### 比较操作\n"
   ]
  },
  {
   "cell_type": "code",
   "execution_count": 18,
   "metadata": {},
   "outputs": [
    {
     "data": {
      "text/plain": [
       "False"
      ]
     },
     "execution_count": 18,
     "metadata": {},
     "output_type": "execute_result"
    }
   ],
   "source": [
    "1 == 2  # 等于"
   ]
  },
  {
   "cell_type": "code",
   "execution_count": 19,
   "metadata": {},
   "outputs": [
    {
     "data": {
      "text/plain": [
       "True"
      ]
     },
     "execution_count": 19,
     "metadata": {},
     "output_type": "execute_result"
    }
   ],
   "source": [
    "1 != 2  # 不等于"
   ]
  },
  {
   "cell_type": "code",
   "execution_count": 20,
   "metadata": {},
   "outputs": [
    {
     "data": {
      "text/plain": [
       "True"
      ]
     },
     "execution_count": 20,
     "metadata": {},
     "output_type": "execute_result"
    }
   ],
   "source": [
    "1 < 2  # 小于"
   ]
  },
  {
   "cell_type": "code",
   "execution_count": 21,
   "metadata": {},
   "outputs": [
    {
     "data": {
      "text/plain": [
       "True"
      ]
     },
     "execution_count": 21,
     "metadata": {},
     "output_type": "execute_result"
    }
   ],
   "source": [
    "1 <= 2  # 小于等于"
   ]
  },
  {
   "cell_type": "code",
   "execution_count": 22,
   "metadata": {},
   "outputs": [
    {
     "data": {
      "text/plain": [
       "False"
      ]
     },
     "execution_count": 22,
     "metadata": {},
     "output_type": "execute_result"
    }
   ],
   "source": [
    "1 > 2  # 大于"
   ]
  },
  {
   "cell_type": "code",
   "execution_count": 23,
   "metadata": {},
   "outputs": [
    {
     "data": {
      "text/plain": [
       "False"
      ]
     },
     "execution_count": 23,
     "metadata": {},
     "output_type": "execute_result"
    }
   ],
   "source": [
    "1 >= 2  # 大于等于"
   ]
  },
  {
   "cell_type": "code",
   "execution_count": 24,
   "metadata": {},
   "outputs": [
    {
     "data": {
      "text/plain": [
       "True"
      ]
     },
     "execution_count": 24,
     "metadata": {},
     "output_type": "execute_result"
    }
   ],
   "source": [
    "1 == 1.0"
   ]
  },
  {
   "cell_type": "code",
   "execution_count": 25,
   "metadata": {},
   "outputs": [
    {
     "data": {
      "text/plain": [
       "True"
      ]
     },
     "execution_count": 25,
     "metadata": {},
     "output_type": "execute_result"
    }
   ],
   "source": [
    "[1, 2, 3] == [1.0, 2.0, 3.0]"
   ]
  },
  {
   "attachments": {},
   "cell_type": "markdown",
   "metadata": {},
   "source": [
    "`==` 和 `!=` 是基于值做判断的；`is` 是基于 `id` 判断的，即判断两个东西是不是同一个对象\n"
   ]
  },
  {
   "cell_type": "code",
   "execution_count": 26,
   "metadata": {},
   "outputs": [],
   "source": [
    "a = 1\n",
    "b = 1.0"
   ]
  },
  {
   "cell_type": "code",
   "execution_count": 27,
   "metadata": {},
   "outputs": [
    {
     "data": {
      "text/plain": [
       "True"
      ]
     },
     "execution_count": 27,
     "metadata": {},
     "output_type": "execute_result"
    }
   ],
   "source": [
    "a == b"
   ]
  },
  {
   "cell_type": "code",
   "execution_count": 28,
   "metadata": {},
   "outputs": [
    {
     "data": {
      "text/plain": [
       "False"
      ]
     },
     "execution_count": 28,
     "metadata": {},
     "output_type": "execute_result"
    }
   ],
   "source": [
    "a is b"
   ]
  },
  {
   "cell_type": "code",
   "execution_count": 29,
   "metadata": {},
   "outputs": [],
   "source": [
    "a = [1, 2, 3]\n",
    "b = [1, 2, 3]"
   ]
  },
  {
   "cell_type": "code",
   "execution_count": 30,
   "metadata": {},
   "outputs": [
    {
     "data": {
      "text/plain": [
       "True"
      ]
     },
     "execution_count": 30,
     "metadata": {},
     "output_type": "execute_result"
    }
   ],
   "source": [
    "a == b"
   ]
  },
  {
   "cell_type": "code",
   "execution_count": 31,
   "metadata": {},
   "outputs": [
    {
     "data": {
      "text/plain": [
       "False"
      ]
     },
     "execution_count": 31,
     "metadata": {},
     "output_type": "execute_result"
    }
   ],
   "source": [
    "a is b"
   ]
  },
  {
   "attachments": {},
   "cell_type": "markdown",
   "metadata": {},
   "source": [
    "**注意：“不是” 一般写作 `a is not b`，而不是 `not a is b`**\n"
   ]
  },
  {
   "cell_type": "code",
   "execution_count": 32,
   "metadata": {},
   "outputs": [
    {
     "data": {
      "text/plain": [
       "True"
      ]
     },
     "execution_count": 32,
     "metadata": {},
     "output_type": "execute_result"
    }
   ],
   "source": [
    "a is not b"
   ]
  },
  {
   "cell_type": "markdown",
   "metadata": {},
   "source": [
    "**注意：关于 `None` 的判断用 `is` 和 `is not` 而不是 `==` 和 `!=`，理由是 `None` 这个对象是唯一的，我们只需要根据 `id` 判等，而不是根据值判等**\n"
   ]
  },
  {
   "cell_type": "code",
   "execution_count": 33,
   "metadata": {},
   "outputs": [],
   "source": [
    "a = None\n",
    "b = 1\n",
    "c = None"
   ]
  },
  {
   "cell_type": "code",
   "execution_count": 34,
   "metadata": {},
   "outputs": [
    {
     "data": {
      "text/plain": [
       "False"
      ]
     },
     "execution_count": 34,
     "metadata": {},
     "output_type": "execute_result"
    }
   ],
   "source": [
    "a is b"
   ]
  },
  {
   "cell_type": "code",
   "execution_count": 35,
   "metadata": {},
   "outputs": [
    {
     "data": {
      "text/plain": [
       "True"
      ]
     },
     "execution_count": 35,
     "metadata": {},
     "output_type": "execute_result"
    }
   ],
   "source": [
    "a is c"
   ]
  },
  {
   "cell_type": "markdown",
   "metadata": {},
   "source": [
    "python 中的比较操作可以串着写\n"
   ]
  },
  {
   "cell_type": "code",
   "execution_count": 36,
   "metadata": {},
   "outputs": [
    {
     "data": {
      "text/plain": [
       "True"
      ]
     },
     "execution_count": 36,
     "metadata": {},
     "output_type": "execute_result"
    }
   ],
   "source": [
    "1 < 2 < 3\n",
    "\n",
    "# 等价于\n",
    "\n",
    "1 < 2 and 2 < 3"
   ]
  },
  {
   "cell_type": "markdown",
   "metadata": {},
   "source": [
    "可以串任意比较操作、任意多个\n"
   ]
  },
  {
   "cell_type": "code",
   "execution_count": 37,
   "metadata": {},
   "outputs": [
    {
     "data": {
      "text/plain": [
       "True"
      ]
     },
     "execution_count": 37,
     "metadata": {},
     "output_type": "execute_result"
    }
   ],
   "source": [
    "1 < 2 != 3 < 4 > 0 == 0\n",
    "\n",
    "# 等价于\n",
    "\n",
    "1 < 2 and 2 != 3 and 3 < 4 and 4 > 0 and 0 == 0"
   ]
  },
  {
   "attachments": {},
   "cell_type": "markdown",
   "metadata": {},
   "source": [
    "### 1.2 字符串\n"
   ]
  },
  {
   "attachments": {},
   "cell_type": "markdown",
   "metadata": {},
   "source": [
    "可以写成单引号或者双引号\n",
    "\n",
    "`'abc'`\n",
    "\n",
    "`\"abc\"`\n",
    "\n",
    "特殊字符需要转义操作`\\`\n",
    "\n",
    "`'123\\n456'`\n",
    "\n",
    "单引号字符串中的单引号、双引号字符串中的双引号，也需要转义操作\n",
    "\n",
    "`'123\\'456'`\n",
    "\n",
    "但单引号字符串中的双引号、双引号字符串中的单引号不需要转义操作，所以一般来说写成下面这样\n",
    "\n",
    "`\"123'456\"`\n",
    "\n",
    "使用 3 个单/双引号的字符串可以跨行\n",
    "\n",
    "```\n",
    "'''第一行\n",
    "第二行\n",
    "第三行'''\n",
    "```\n",
    "\n",
    "字符串操作：(**注意：字符串是不可变的，任何操作都会返回新的字符串对象**)\n",
    "\n",
    "- 拼接：`'ab' + 'cd' -> 'abcd'`\n",
    "- 重复：`'ab' * 3 -> 'ababab'`\n",
    "- 分割：`a.split(b)`，以字符串 b 为界分割 a\n"
   ]
  },
  {
   "cell_type": "code",
   "execution_count": 38,
   "metadata": {},
   "outputs": [
    {
     "data": {
      "text/plain": [
       "['1', '2', '3']"
      ]
     },
     "execution_count": 38,
     "metadata": {},
     "output_type": "execute_result"
    }
   ],
   "source": [
    "\"1 2 3\".split(\" \")"
   ]
  },
  {
   "attachments": {},
   "cell_type": "markdown",
   "metadata": {},
   "source": [
    "- 连接：`a.join(b)`，以字符串 a 来将字符串序列 b 中元素连接起来\n"
   ]
  },
  {
   "cell_type": "code",
   "execution_count": 39,
   "metadata": {},
   "outputs": [
    {
     "data": {
      "text/plain": [
       "'1 2 3'"
      ]
     },
     "execution_count": 39,
     "metadata": {},
     "output_type": "execute_result"
    }
   ],
   "source": [
    "\" \".join([\"1\", \"2\", \"3\"])"
   ]
  },
  {
   "attachments": {},
   "cell_type": "markdown",
   "metadata": {},
   "source": [
    "- 替换：`a.replace(b,c)`，将字符串 a 中的 b 都替换为 c\n"
   ]
  },
  {
   "cell_type": "code",
   "execution_count": 40,
   "metadata": {},
   "outputs": [
    {
     "data": {
      "text/plain": [
       "'1@2@3'"
      ]
     },
     "execution_count": 40,
     "metadata": {},
     "output_type": "execute_result"
    }
   ],
   "source": [
    "\"1,2,3\".replace(\",\", \"@\")"
   ]
  },
  {
   "cell_type": "markdown",
   "metadata": {},
   "source": [
    "- 大小写转化：upper()、lower()\n"
   ]
  },
  {
   "cell_type": "code",
   "execution_count": 41,
   "metadata": {},
   "outputs": [
    {
     "data": {
      "text/plain": [
       "'ABCD123ABCD'"
      ]
     },
     "execution_count": 41,
     "metadata": {},
     "output_type": "execute_result"
    }
   ],
   "source": [
    "\"abcd123ABCD\".upper()"
   ]
  },
  {
   "cell_type": "code",
   "execution_count": 42,
   "metadata": {},
   "outputs": [
    {
     "data": {
      "text/plain": [
       "'abcd123abcd'"
      ]
     },
     "execution_count": 42,
     "metadata": {},
     "output_type": "execute_result"
    }
   ],
   "source": [
    "\"abcd123ABCD\".lower()"
   ]
  },
  {
   "attachments": {},
   "cell_type": "markdown",
   "metadata": {},
   "source": [
    "字符串转换：\n",
    "\n",
    "- `str(a)`: 将 a 转化为字符串\n",
    "- `hex(a)`,`oct(a)`,`bin(a)`: 将整数 a 转化为 16、8、2 进制字符串\n",
    "- `int(str,b)`: 将字符串 str 转化为 b 进制整数\n",
    "- `float(str)`: 将字符串 str 转化为浮点数\n"
   ]
  },
  {
   "cell_type": "code",
   "execution_count": 43,
   "metadata": {},
   "outputs": [
    {
     "data": {
      "text/plain": [
       "('3.4', '0xea', 250, 5.78)"
      ]
     },
     "execution_count": 43,
     "metadata": {},
     "output_type": "execute_result"
    }
   ],
   "source": [
    "str(3.4), hex(234), int(\"FA\", 16), float(\"5.78\")"
   ]
  },
  {
   "cell_type": "markdown",
   "metadata": {},
   "source": [
    "Raw 字符串：在引号前面加 `r`，表示不将 `\\` 视为转义，在处理 windows 路径和正则表达式时非常方便\n"
   ]
  },
  {
   "cell_type": "code",
   "execution_count": 44,
   "metadata": {},
   "outputs": [
    {
     "data": {
      "text/plain": [
       "'C:\\\\abc\\\\def'"
      ]
     },
     "execution_count": 44,
     "metadata": {},
     "output_type": "execute_result"
    }
   ],
   "source": [
    "r\"C:\\abc\\def\""
   ]
  },
  {
   "attachments": {},
   "cell_type": "markdown",
   "metadata": {},
   "source": [
    "模板字符串：在前面加 `f`，在需要用到变量值时非常方便，只需要用 `{}` 括起来\n"
   ]
  },
  {
   "cell_type": "code",
   "execution_count": 45,
   "metadata": {},
   "outputs": [
    {
     "data": {
      "text/plain": [
       "'a 的值是 1，b 的值是 2'"
      ]
     },
     "execution_count": 45,
     "metadata": {},
     "output_type": "execute_result"
    }
   ],
   "source": [
    "a = 1\n",
    "b = 2\n",
    "f\"a 的值是 {a}，b 的值是 {b}\""
   ]
  },
  {
   "cell_type": "markdown",
   "metadata": {},
   "source": [
    "除了变量名，也可以是其他表达式\n"
   ]
  },
  {
   "cell_type": "code",
   "execution_count": 46,
   "metadata": {},
   "outputs": [
    {
     "data": {
      "text/plain": [
       "'1025'"
      ]
     },
     "execution_count": 46,
     "metadata": {},
     "output_type": "execute_result"
    }
   ],
   "source": [
    "f\"{2**10 + a}\""
   ]
  },
  {
   "attachments": {},
   "cell_type": "markdown",
   "metadata": {},
   "source": [
    "可以用类似 C 中 printf 的语法对浮点数格式化，详细信息见 https://docs.python.org/zh-cn/3/tutorial/inputoutput.html\n"
   ]
  },
  {
   "cell_type": "code",
   "execution_count": 47,
   "metadata": {},
   "outputs": [
    {
     "data": {
      "text/plain": [
       "'a ≈ 1.235'"
      ]
     },
     "execution_count": 47,
     "metadata": {},
     "output_type": "execute_result"
    }
   ],
   "source": [
    "a = 1.2345678\n",
    "f\"a ≈ {a:.3f}\"  # 3 位小数"
   ]
  },
  {
   "cell_type": "markdown",
   "metadata": {},
   "source": [
    "如果需要用到单纯的`{`或者`}`字符，需要写两遍表示转义，类似`printf`中的`%%`\n"
   ]
  },
  {
   "cell_type": "code",
   "execution_count": 1,
   "metadata": {},
   "outputs": [
    {
     "data": {
      "text/plain": [
       "'{ a } vs b'"
      ]
     },
     "execution_count": 1,
     "metadata": {},
     "output_type": "execute_result"
    }
   ],
   "source": [
    "a = \"b\"\n",
    "f\"{{ a }} vs {a}\""
   ]
  },
  {
   "attachments": {},
   "cell_type": "markdown",
   "metadata": {},
   "source": [
    "### 1.3 索引和切片\n"
   ]
  },
  {
   "cell_type": "markdown",
   "metadata": {},
   "source": [
    "索引：  \n",
    "对于一个有序序列，可以通过索引的方法来访问对应位置的值。字符串便是一个有序序列的例子，Python 使用[]来对有序序列进行索引。  \n",
    "索引是从 0 开始的，索引 0 对应与序列的第 1 个元素，当索引值大于最大值时，就会报错。  \n",
    "python 中还有负索引值，其为从后向前计数。\n"
   ]
  },
  {
   "cell_type": "code",
   "execution_count": 49,
   "metadata": {},
   "outputs": [
    {
     "name": "stdout",
     "output_type": "stream",
     "text": [
      "i j\n"
     ]
    }
   ],
   "source": [
    "str = \"abcdefghijk\"\n",
    "print(str[8], str[-2])"
   ]
  },
  {
   "attachments": {},
   "cell_type": "markdown",
   "metadata": {},
   "source": [
    "切片：  \n",
    "可以从序列中取出想要的子序列，其用法为：\n",
    "`var[lower:upper:step]`  \n",
    "左闭右开，即包括 `lower`，不包括 `upper`；`step` 表示取值的步长。\n",
    "\n",
    "这三个参数可以省略一部分，例如\n",
    "\n",
    "- `a[:]`：从头到尾，即创建副本\n",
    "- `a[1:]`：从 1 到结尾\n",
    "- `a[:3]`、`a[:-2]`：从 0 到 3、从 0 到倒数第二\n",
    "- `a[::-1]`：逆序\n"
   ]
  },
  {
   "cell_type": "code",
   "execution_count": 50,
   "metadata": {},
   "outputs": [
    {
     "name": "stdout",
     "output_type": "stream",
     "text": [
      "abcd aceg\n"
     ]
    }
   ],
   "source": [
    "str = \"abcdefghijk\"\n",
    "print(str[0:4], str[0:7:2])"
   ]
  },
  {
   "attachments": {},
   "cell_type": "markdown",
   "metadata": {},
   "source": [
    "### 1.4 列表\n"
   ]
  },
  {
   "attachments": {},
   "cell_type": "markdown",
   "metadata": {},
   "source": [
    "在 Python 中，列表是一个有序的序列。列表用一对 `[]` 生成，中间的元素用 `,` 隔开，其中的元素不需要是同一类型，同时列表的长度也不固定。也可以利用`list()`或`[]`来生成空的列表\n"
   ]
  },
  {
   "cell_type": "code",
   "execution_count": 51,
   "metadata": {},
   "outputs": [
    {
     "data": {
      "text/plain": [
       "([1, 2.0, 'abc'], list, [])"
      ]
     },
     "execution_count": 51,
     "metadata": {},
     "output_type": "execute_result"
    }
   ],
   "source": [
    "a = [1, 2.0, \"abc\"]\n",
    "a, type(a), list()"
   ]
  },
  {
   "attachments": {},
   "cell_type": "markdown",
   "metadata": {},
   "source": [
    "列表的操作同字符串类似，如下：\n",
    "\n",
    "- `len()`：输出列表的长度\n",
    "- `+`：拼接\n",
    "- `*`：重复\n"
   ]
  },
  {
   "cell_type": "code",
   "execution_count": 52,
   "metadata": {},
   "outputs": [
    {
     "data": {
      "text/plain": [
       "([1, 2, 4, 5], 4, [1, 2, 1, 2, 1, 2])"
      ]
     },
     "execution_count": 52,
     "metadata": {},
     "output_type": "execute_result"
    }
   ],
   "source": [
    "a = [1, 2]\n",
    "b = [4, 5]\n",
    "a + b, len(a + b), a * 3"
   ]
  },
  {
   "attachments": {},
   "cell_type": "markdown",
   "metadata": {},
   "source": [
    "数组的索引和切片可以**读取**也可以**赋值**\n"
   ]
  },
  {
   "cell_type": "code",
   "execution_count": 53,
   "metadata": {},
   "outputs": [
    {
     "data": {
      "text/plain": [
       "(1, 8, [4, 5, 6], [1, 4, 7])"
      ]
     },
     "execution_count": 53,
     "metadata": {},
     "output_type": "execute_result"
    }
   ],
   "source": [
    "a = [1, 2, 3, 4, 5, 6, 7, 8, 9]\n",
    "a[0], a[7], a[3:6], a[::3]"
   ]
  },
  {
   "cell_type": "code",
   "execution_count": 54,
   "metadata": {},
   "outputs": [
    {
     "name": "stdout",
     "output_type": "stream",
     "text": [
      "[1, 2, 3, 4, 5, 'a', 'b', 'c', 'd', 8, 9]\n",
      "[1, 2, 3, 4, 5, 8, 9]\n"
     ]
    }
   ],
   "source": [
    "a = [0, 1, 2, 3, 4, 5, 6, 7, 8, 9]\n",
    "a[5:7] = [\"a\", \"b\", \"c\", \"d\"]\n",
    "print(a)\n",
    "a = [0, 1, 2, 3, 4, 5, 6, 7, 8, 9]\n",
    "a[5:7] = []\n",
    "print(a)"
   ]
  },
  {
   "attachments": {},
   "cell_type": "markdown",
   "metadata": {},
   "source": [
    "还可以用 `del` 删除\n"
   ]
  },
  {
   "cell_type": "code",
   "execution_count": 55,
   "metadata": {},
   "outputs": [
    {
     "name": "stdout",
     "output_type": "stream",
     "text": [
      "[4, 5, 6, 7, 8, 9]\n",
      "[2, 3, 5, 6, 8, 9]\n"
     ]
    }
   ],
   "source": [
    "a = [1, 2, 3, 4, 5, 6, 7, 8, 9]\n",
    "del a[0:3]\n",
    "print(a)\n",
    "a = [1, 2, 3, 4, 5, 6, 7, 8, 9]\n",
    "del a[::3]\n",
    "print(a)"
   ]
  },
  {
   "attachments": {},
   "cell_type": "markdown",
   "metadata": {},
   "source": [
    "- 测试从属关系：`in`\n",
    "- 计数和索引：`l.count(a)` 返回列表 l 中 a 的个数；`l.index(a)` 返回列表 l 中 a 第一次出现的索引位置，不存在会报错\n",
    "- 添加，插入和移除：\n",
    "  - `l.append(a)` 在列表最后加入 a\n",
    "  - `l.extend(a)` 如果 a 是一个序列，相当于将序列中的每个元素依次 `append`\n",
    "  - `l.insert(idx,a)` 在列表的 idx 索引处插入 a\n",
    "  - `l.remove(a)` 移除第一次出现的 a，不存在会报错\n",
    "- 排序和反向: `a.sort()` 对 `a` **原地**排序，会改变 `a` 中的值；`sorted(a)` 返回一个新的已经排好序的列表，不改变原有值；`a.reverse()` 和 `reversed(a)` 表示反向，二者的区别和上面类似。\n"
   ]
  },
  {
   "cell_type": "code",
   "execution_count": 56,
   "metadata": {},
   "outputs": [
    {
     "data": {
      "text/plain": [
       "True"
      ]
     },
     "execution_count": 56,
     "metadata": {},
     "output_type": "execute_result"
    }
   ],
   "source": [
    "a = [1, 2, 3, 4, 5, 6, 7, 8, 9]\n",
    "3 in a"
   ]
  },
  {
   "cell_type": "code",
   "execution_count": 57,
   "metadata": {},
   "outputs": [
    {
     "data": {
      "text/plain": [
       "(1, 2)"
      ]
     },
     "execution_count": 57,
     "metadata": {},
     "output_type": "execute_result"
    }
   ],
   "source": [
    "a.count(3), a.index(3)"
   ]
  },
  {
   "cell_type": "code",
   "execution_count": 58,
   "metadata": {},
   "outputs": [
    {
     "name": "stdout",
     "output_type": "stream",
     "text": [
      "[1, 2, 3, 4, 5, 6, 7, 8, 9, 'b']\n",
      "[1, 2, 3, 4, 5, 6, 7, 8, 9, ['b', 'c']]\n",
      "[1, 2, 3, ['b', 'c'], 4, 5, 6, 7, 8, 9]\n",
      "[1, 2, 3, 4, 5, 6, 8, 9]\n"
     ]
    }
   ],
   "source": [
    "a = [1, 2, 3, 4, 5, 6, 7, 8, 9]\n",
    "a.append(\"b\")\n",
    "print(a)\n",
    "\n",
    "a = [1, 2, 3, 4, 5, 6, 7, 8, 9]\n",
    "a.append([\"b\", \"c\"])\n",
    "print(a)\n",
    "\n",
    "a = [1, 2, 3, 4, 5, 6, 7, 8, 9]\n",
    "a.insert(3, [\"b\", \"c\"])\n",
    "print(a)\n",
    "\n",
    "a = [1, 2, 3, 4, 5, 6, 7, 8, 9]\n",
    "a.remove(7)\n",
    "print(a)"
   ]
  },
  {
   "cell_type": "code",
   "execution_count": 59,
   "metadata": {},
   "outputs": [
    {
     "name": "stdout",
     "output_type": "stream",
     "text": [
      "[3, 5, 9, 59, 67, 93]\n"
     ]
    },
    {
     "data": {
      "text/plain": [
       "[3, 5, 9, 59, 67, 93]"
      ]
     },
     "execution_count": 59,
     "metadata": {},
     "output_type": "execute_result"
    }
   ],
   "source": [
    "a = [5, 67, 9, 3, 59, 93]\n",
    "a.sort()\n",
    "print(a)\n",
    "\n",
    "a = [5, 67, 9, 3, 59, 93]\n",
    "sorted(a)"
   ]
  },
  {
   "cell_type": "code",
   "execution_count": 60,
   "metadata": {},
   "outputs": [
    {
     "name": "stdout",
     "output_type": "stream",
     "text": [
      "[93, 59, 3, 9, 67, 5]\n"
     ]
    }
   ],
   "source": [
    "a = [5, 67, 9, 3, 59, 93]\n",
    "a.reverse()\n",
    "print(a)"
   ]
  },
  {
   "attachments": {},
   "cell_type": "markdown",
   "metadata": {},
   "source": [
    "### 1.5 元组\n"
   ]
  },
  {
   "attachments": {},
   "cell_type": "markdown",
   "metadata": {},
   "source": [
    "- 与列表相似，元组也是个有序序列，可以索引和切片，但是其是不可变的\n",
    "- 空元组：`()` 或 `tuple()`\n",
    "- 注意：单元素元组应该写为 `(1,)`，以避免和普通括号表达式产生歧义\n"
   ]
  },
  {
   "cell_type": "code",
   "execution_count": 61,
   "metadata": {},
   "outputs": [
    {
     "name": "stdout",
     "output_type": "stream",
     "text": [
      "1 (4, 6, 7) (1, 4, 7, 83)\n"
     ]
    }
   ],
   "source": [
    "t = (1, 3, 4, 6, 7, 56, 83, 3)\n",
    "print(t[0], t[2:5], t[::2])"
   ]
  },
  {
   "cell_type": "code",
   "execution_count": 62,
   "metadata": {},
   "outputs": [
    {
     "data": {
      "text/plain": [
       "(tuple, int)"
      ]
     },
     "execution_count": 62,
     "metadata": {},
     "output_type": "execute_result"
    }
   ],
   "source": [
    "type((12,)), type((12))"
   ]
  },
  {
   "cell_type": "markdown",
   "metadata": {},
   "source": [
    "元组的计数函数 `count()` 和查找元素位置 `index()`\n"
   ]
  },
  {
   "cell_type": "code",
   "execution_count": 63,
   "metadata": {},
   "outputs": [
    {
     "name": "stdout",
     "output_type": "stream",
     "text": [
      "2 5\n"
     ]
    }
   ],
   "source": [
    "t = (1, 3, 4, 6, 7, 56, 83, 3)\n",
    "print(t.count(3), t.index(56))"
   ]
  },
  {
   "cell_type": "markdown",
   "metadata": {},
   "source": [
    "一般的，元组可以用来作为函数的多返回值，同时也可以用来对多变量进行赋值，如下：\n"
   ]
  },
  {
   "cell_type": "code",
   "execution_count": 64,
   "metadata": {},
   "outputs": [
    {
     "name": "stdout",
     "output_type": "stream",
     "text": [
      "(1, 2, 3, 4) <class 'tuple'>\n",
      "<class 'tuple'>\n"
     ]
    }
   ],
   "source": [
    "w, x, y, z = 1, 2, 3, 4\n",
    "x = 1, 2, 3, 4\n",
    "print(x, type(x))\n",
    "print(type((1, 2, 3, 4)))"
   ]
  },
  {
   "attachments": {},
   "cell_type": "markdown",
   "metadata": {},
   "source": [
    "### 1.6 字典\n"
   ]
  },
  {
   "attachments": {},
   "cell_type": "markdown",
   "metadata": {},
   "source": [
    "字典是一种由键值对组成的数据结构，可以通过键来访问对应的值。字典是无序的，所以没有索引和切片。\n"
   ]
  },
  {
   "cell_type": "markdown",
   "metadata": {},
   "source": [
    "### 基本操作\n",
    "\n",
    "创建字典: 可以通过 `{}` 或者 `dict()` 来创建空字典，同样也可以在创建时使用 `key：value` 这样的结构来初始化。\n"
   ]
  },
  {
   "cell_type": "code",
   "execution_count": 65,
   "metadata": {},
   "outputs": [
    {
     "name": "stdout",
     "output_type": "stream",
     "text": [
      "<class 'dict'> <class 'dict'> a1\n",
      "{1: 'b1', '2': 'b2'}\n",
      "b1\n"
     ]
    }
   ],
   "source": [
    "a = {}\n",
    "b = dict()\n",
    "c = {\"1\": \"a1\", \"2\": \"a2\"}\n",
    "print(type(a), type(b), c[\"1\"])\n",
    "b[1] = \"b1\"\n",
    "b[\"2\"] = \"b2\"\n",
    "print(b)\n",
    "print(b[1])"
   ]
  },
  {
   "attachments": {},
   "cell_type": "markdown",
   "metadata": {},
   "source": [
    "注意：\n",
    "\n",
    "- 字典的键必须是不可变的类型，比如整数，字符串，元组等，而值可以是任意的 python 对象\n",
    "- 一般不使用浮点数来作为键，因为其存在存储精度问题\n"
   ]
  },
  {
   "cell_type": "code",
   "execution_count": 66,
   "metadata": {},
   "outputs": [
    {
     "name": "stdout",
     "output_type": "stream",
     "text": [
      "{'color1': {'blue': 1, 'red': 2}, 'color2': {'white': 3, 'black': 4}}\n"
     ]
    }
   ],
   "source": [
    "a = {\"blue\": 1, \"red\": 2}\n",
    "b = {\"white\": 3, \"black\": 4}\n",
    "c = {\"color1\": a, \"color2\": b}\n",
    "print(c)"
   ]
  },
  {
   "cell_type": "markdown",
   "metadata": {},
   "source": [
    "比如，下面的例子中就出现了因为浮点数精度问题导致的键不一致的问题。\n"
   ]
  },
  {
   "cell_type": "code",
   "execution_count": 67,
   "metadata": {},
   "outputs": [
    {
     "name": "stdout",
     "output_type": "stream",
     "text": [
      "c\n"
     ]
    },
    {
     "ename": "KeyError",
     "evalue": "3.3000000000000003",
     "output_type": "error",
     "traceback": [
      "\u001b[0;31m---------------------------------------------------------------------------\u001b[0m",
      "\u001b[0;31mKeyError\u001b[0m                                  Traceback (most recent call last)",
      "Cell \u001b[0;32mIn[67], line 3\u001b[0m\n\u001b[1;32m      1\u001b[0m a \u001b[38;5;241m=\u001b[39m {\u001b[38;5;241m1.1\u001b[39m: \u001b[38;5;124m\"\u001b[39m\u001b[38;5;124ma\u001b[39m\u001b[38;5;124m\"\u001b[39m, \u001b[38;5;241m2.2\u001b[39m: \u001b[38;5;124m\"\u001b[39m\u001b[38;5;124mb\u001b[39m\u001b[38;5;124m\"\u001b[39m, \u001b[38;5;241m3.3\u001b[39m: \u001b[38;5;124m\"\u001b[39m\u001b[38;5;124mc\u001b[39m\u001b[38;5;124m\"\u001b[39m}\n\u001b[1;32m      2\u001b[0m \u001b[38;5;28mprint\u001b[39m(a[\u001b[38;5;241m3.3\u001b[39m])\n\u001b[0;32m----> 3\u001b[0m \u001b[38;5;28mprint\u001b[39m(\u001b[43ma\u001b[49m\u001b[43m[\u001b[49m\u001b[38;5;241;43m2.2\u001b[39;49m\u001b[43m \u001b[49m\u001b[38;5;241;43m+\u001b[39;49m\u001b[43m \u001b[49m\u001b[38;5;241;43m1.1\u001b[39;49m\u001b[43m]\u001b[49m)\n",
      "\u001b[0;31mKeyError\u001b[0m: 3.3000000000000003"
     ]
    }
   ],
   "source": [
    "a = {1.1: \"a\", 2.2: \"b\", 3.3: \"c\"}\n",
    "print(a[3.3])\n",
    "print(a[2.2 + 1.1])"
   ]
  },
  {
   "attachments": {},
   "cell_type": "markdown",
   "metadata": {},
   "source": [
    "### 字典方法\n",
    "\n",
    "- 取值: `d.get(key)`，相比于使用 `d[key]`，其在字典中键不存在是不会报错，而是返回 `None`。\n",
    "- 删除元素: `d.pop(key)`，删除并返回键为 `key` 的键值对，如果没有返回 `None`。同样可以使用 `del d[key]` 来进行删除。\n",
    "- 更新字典: `d.update(d')`,将字典 `d'` 中元素更新到 `d` 中。\n",
    "- 查询字典: `a in d`, 查询键 `a` 是否在字典 `d` 中。\n",
    "\n",
    "**注意：**“不在” 一般写作 `a not in d` 而不是 `not a in d`\n"
   ]
  },
  {
   "cell_type": "code",
   "execution_count": 68,
   "metadata": {},
   "outputs": [
    {
     "name": "stdout",
     "output_type": "stream",
     "text": [
      "1 None\n",
      "{'red': 2, 'white': 3, 'black': 4}\n",
      "{'red': 2, 'white': 3, 'black': 4, 'green': 5}\n",
      "False\n"
     ]
    }
   ],
   "source": [
    "d = {\"blue\": 1, \"red\": 2, \"white\": 3, \"black\": 4}\n",
    "print(d.get(\"blue\"), d.get(\"green\"))\n",
    "d.pop(\"blue\")\n",
    "print(d)\n",
    "d1 = {\"green\": 5}\n",
    "d.update(d1)\n",
    "print(d)\n",
    "print(\"blue\" in d)"
   ]
  },
  {
   "attachments": {},
   "cell_type": "markdown",
   "metadata": {},
   "source": [
    "- keys 方法：`d.keys()`, 返回所有键构成的序列。\n",
    "- values 方法：`d.values()`, 返回所有值构成的序列。\n",
    "- items 方法：`d.items()`, 返回所有键值对元组构成的序列。\n"
   ]
  },
  {
   "cell_type": "code",
   "execution_count": 69,
   "metadata": {},
   "outputs": [
    {
     "name": "stdout",
     "output_type": "stream",
     "text": [
      "dict_keys(['blue', 'red', 'white', 'black'])\n",
      "dict_values([1, 2, 3, 4])\n",
      "dict_items([('blue', 1), ('red', 2), ('white', 3), ('black', 4)])\n"
     ]
    }
   ],
   "source": [
    "d = {\"blue\": 1, \"red\": 2, \"white\": 3, \"black\": 4}\n",
    "print(d.keys())\n",
    "print(d.values())\n",
    "print(d.items())"
   ]
  },
  {
   "attachments": {},
   "cell_type": "markdown",
   "metadata": {},
   "source": [
    "### 1.7 集合\n"
   ]
  },
  {
   "cell_type": "markdown",
   "metadata": {},
   "source": [
    "集合 set 是一种无序的序列，故当其中有两个相同的元素，只会保留一个；并且为了保证其中不包含相同元素，放入集合中元素只能是确定性对象。  \n",
    "集合的生成可以通过 `{}` 或者 `set()` 进行创建，但是在创建空集合，只能通过 `set()` 创建，因为 `{}` 表示空字典。\n"
   ]
  },
  {
   "cell_type": "code",
   "execution_count": 70,
   "metadata": {},
   "outputs": [
    {
     "name": "stdout",
     "output_type": "stream",
     "text": [
      "<class 'set'> <class 'dict'> {1, 2, 3} {1, 2, 3}\n"
     ]
    }
   ],
   "source": [
    "a = set()\n",
    "b = {}\n",
    "c = set([1, 2, 3, 2])  # 自动去除相同的元素\n",
    "d = {1, 2, 3}\n",
    "print(type(a), type(b), c, d)"
   ]
  },
  {
   "cell_type": "markdown",
   "metadata": {},
   "source": [
    "集合操作：\n",
    "\n",
    "- 并: `a.union(b)` 或者 `a | b`\n",
    "- 交: `a.intersection(b)` 或者 `a & b`\n",
    "- 差: `a.difference(b)` 或者 `a - b`；在 `a` 中不在 `b` 中的元素\n",
    "- 对称差: `a.symmetric_difference(b)` 或者 `a ^ b`；在 `a` 或 `b` 中，但是不同时在 `a`，`b` 中的元素\n"
   ]
  },
  {
   "cell_type": "code",
   "execution_count": 71,
   "metadata": {},
   "outputs": [
    {
     "name": "stdout",
     "output_type": "stream",
     "text": [
      "{1, 2, 3, 4, 6, 7} {2, 3} {1, 4} {1, 4, 6, 7}\n"
     ]
    }
   ],
   "source": [
    "a = {1, 2, 3, 4}\n",
    "b = {2, 3, 6, 7}\n",
    "print(a | b, a & b, a - b, a ^ b)"
   ]
  },
  {
   "cell_type": "markdown",
   "metadata": {},
   "source": [
    "包含关系:\n",
    "\n",
    "- 判断 `a` 是否是 `b` 的子集：`a.issuperset(b)` 或者 `a <= b`\n",
    "- 判断 `a` 是否是 `b` 的真子集：`a < b`\n"
   ]
  },
  {
   "cell_type": "code",
   "execution_count": 72,
   "metadata": {},
   "outputs": [
    {
     "name": "stdout",
     "output_type": "stream",
     "text": [
      "True True False\n"
     ]
    }
   ],
   "source": [
    "a = {1, 2}\n",
    "b = {1, 2, 3}\n",
    "print(a <= b, a < b, a < a)"
   ]
  },
  {
   "cell_type": "markdown",
   "metadata": {},
   "source": [
    "集合方法：\n",
    "\n",
    "- 添加单个元素: `s.add(a)`，将 `a` 加入集合 `s`\n",
    "- 添加多个元素: `s.update(seq)`, 将 `seq` 中元素都加入集合 `s`\n",
    "- 移除单个元素: `s.remove(b)`, 将 `b` 从集合 `s` 中移除，没有即报错\n"
   ]
  },
  {
   "cell_type": "code",
   "execution_count": 73,
   "metadata": {},
   "outputs": [
    {
     "name": "stdout",
     "output_type": "stream",
     "text": [
      "{1, 2, 3}\n",
      "{1, 2, 3, 4, 5}\n",
      "{1, 2, 4, 5}\n"
     ]
    }
   ],
   "source": [
    "s = {1, 2}\n",
    "s.add(3)\n",
    "print(s)\n",
    "s.update([4, 5])\n",
    "print(s)\n",
    "s.remove(3)\n",
    "print(s)"
   ]
  },
  {
   "cell_type": "markdown",
   "metadata": {},
   "source": [
    "## 2. 流程控制\n"
   ]
  },
  {
   "attachments": {},
   "cell_type": "markdown",
   "metadata": {},
   "source": [
    "### 2.1 if\n",
    "\n",
    "- 基本结构是 `if <条件>:`\n",
    "- 不像 C 语言一样需要 `{}`，而是用缩进来区分层级\n",
    "- `elif` 是 else if 的含义\n",
    "- False，None，0，空字符串，空列表，空字典，空集合，都会被当做 `False`\n"
   ]
  },
  {
   "cell_type": "code",
   "execution_count": 74,
   "metadata": {},
   "outputs": [
    {
     "name": "stdout",
     "output_type": "stream",
     "text": [
      "a >= 0\n"
     ]
    }
   ],
   "source": [
    "a = 1\n",
    "if a < 0:\n",
    "    if a < -1:\n",
    "        print(\"a < -1\")\n",
    "    elif a == -1:\n",
    "        print(\"a = -1\")\n",
    "    else:\n",
    "        print(\"-1 < a < 0\")\n",
    "else:\n",
    "    print(\"a >= 0\")"
   ]
  },
  {
   "cell_type": "code",
   "execution_count": 75,
   "metadata": {},
   "outputs": [],
   "source": [
    "# 因为缩进是必须的，而缩进后的内容又不能为空，所以我们通常写个 pass，它不会做任何事\n",
    "# 在编写代码时，想要暂时先不写某个分支，可以用 pass 临时占位\n",
    "if True:\n",
    "    pass"
   ]
  },
  {
   "cell_type": "markdown",
   "metadata": {},
   "source": [
    "### 2.2 while\n",
    "\n",
    "- 基本格式是 `while <条件>:`\n",
    "- 可以用 `break` 跳出，用 `continue` 进入下一次循环\n"
   ]
  },
  {
   "cell_type": "code",
   "execution_count": 76,
   "metadata": {},
   "outputs": [
    {
     "name": "stdout",
     "output_type": "stream",
     "text": [
      "499999500000\n"
     ]
    }
   ],
   "source": [
    "i = 0\n",
    "total = 0\n",
    "while i < 1000000:\n",
    "    total += i\n",
    "    i += 1\n",
    "print(total)"
   ]
  },
  {
   "attachments": {},
   "cell_type": "markdown",
   "metadata": {},
   "source": [
    "### 2.3 for 和 range / zip / enumerate\n",
    "\n",
    "- 基本格式是`for <变量> in <可迭代对象>`，可迭代对象如列表、字符串、`range`、打开的文件等\n",
    "- range 用于创建一串等差数列\n",
    "  - `range(3)` -> 0, 1, 2\n",
    "  - `range(1, 5)` -> 1, 2, 3, 4\n",
    "  - `range(1, 10, 2)` -> 1, 3, 5, 7, 9，从 1 开始到 10，步长为 2\n",
    "- 同样可以用 `break` 和 `continue`\n",
    "- 可选：可以接 `else`，当循环正常退出而非 `break` 退出时会执行\n"
   ]
  },
  {
   "cell_type": "code",
   "execution_count": 77,
   "metadata": {},
   "outputs": [
    {
     "name": "stdout",
     "output_type": "stream",
     "text": [
      "a 里有 1\n"
     ]
    }
   ],
   "source": [
    "a = [1, 2, 3]\n",
    "for i in a:\n",
    "    if i == 1:\n",
    "        print(\"a 里有 1\")\n",
    "        break\n",
    "else:\n",
    "    print(\"a 里没有 1\")"
   ]
  },
  {
   "attachments": {},
   "cell_type": "markdown",
   "metadata": {},
   "source": [
    "python 中的一个编程习惯是用 `_` 变量表示不使用的值，比如我们想循环 3 次但不需要循环变量，可以写成下面这样\n"
   ]
  },
  {
   "cell_type": "code",
   "execution_count": 78,
   "metadata": {},
   "outputs": [
    {
     "name": "stdout",
     "output_type": "stream",
     "text": [
      "233\n",
      "233\n",
      "233\n"
     ]
    }
   ],
   "source": [
    "for _ in range(3):\n",
    "    print(233)"
   ]
  },
  {
   "attachments": {},
   "cell_type": "markdown",
   "metadata": {},
   "source": [
    "### 列表推导式\n",
    "\n",
    "比 for-append 更快地创建列表\n"
   ]
  },
  {
   "cell_type": "code",
   "execution_count": 79,
   "metadata": {},
   "outputs": [],
   "source": [
    "a = []\n",
    "for i in range(10):\n",
    "    a.append(i * i)\n",
    "\n",
    "# 等价于\n",
    "a = [i * i for i in range(10)]"
   ]
  },
  {
   "cell_type": "markdown",
   "metadata": {},
   "source": [
    "可以有 `if`\n"
   ]
  },
  {
   "cell_type": "code",
   "execution_count": 80,
   "metadata": {},
   "outputs": [],
   "source": [
    "a = []\n",
    "for i in range(10):\n",
    "    if i % 2 == 0:\n",
    "        a.append(i * i)\n",
    "\n",
    "# 等价于\n",
    "a = [i * i for i in range(10) if i % 2 == 0]"
   ]
  },
  {
   "cell_type": "markdown",
   "metadata": {},
   "source": [
    "可以有多重循环\n"
   ]
  },
  {
   "cell_type": "code",
   "execution_count": 81,
   "metadata": {},
   "outputs": [],
   "source": [
    "a = []\n",
    "for i in range(10):\n",
    "    for j in range(i, 10):\n",
    "        a.append(i + j)\n",
    "\n",
    "# 等价于\n",
    "a = [i + j for i in range(10) for j in range(i, 10)]"
   ]
  },
  {
   "attachments": {},
   "cell_type": "markdown",
   "metadata": {},
   "source": [
    "### zip\n",
    "\n",
    "用于同时迭代多个可迭代对象，迭代次数以最短的那个为准\n"
   ]
  },
  {
   "cell_type": "code",
   "execution_count": 82,
   "metadata": {},
   "outputs": [
    {
     "name": "stdout",
     "output_type": "stream",
     "text": [
      "1 a A\n",
      "2 b B\n",
      "3 c C\n",
      "4 d D\n",
      "5 e E\n"
     ]
    }
   ],
   "source": [
    "for x, y, z in zip(\"1234567\", \"abcdefg\", \"ABCDE\"):\n",
    "    print(x, y, z)"
   ]
  },
  {
   "cell_type": "markdown",
   "metadata": {},
   "source": [
    "### enumerate\n",
    "\n",
    "用于同时迭代下标和值\n"
   ]
  },
  {
   "cell_type": "code",
   "execution_count": 83,
   "metadata": {},
   "outputs": [
    {
     "name": "stdout",
     "output_type": "stream",
     "text": [
      "0 a\n",
      "1 b\n",
      "2 c\n",
      "3 d\n",
      "4 e\n",
      "5 f\n",
      "6 g\n"
     ]
    }
   ],
   "source": [
    "a = \"abcdefg\"\n",
    "for i, j in enumerate(a):\n",
    "    print(i, j)"
   ]
  },
  {
   "cell_type": "markdown",
   "metadata": {},
   "source": [
    "它的作用类似于\n"
   ]
  },
  {
   "cell_type": "code",
   "execution_count": 84,
   "metadata": {},
   "outputs": [
    {
     "name": "stdout",
     "output_type": "stream",
     "text": [
      "0 a\n",
      "1 b\n",
      "2 c\n",
      "3 d\n",
      "4 e\n",
      "5 f\n",
      "6 g\n"
     ]
    }
   ],
   "source": [
    "for i, j in zip(range(len(a)), a):\n",
    "    print(i, j)"
   ]
  },
  {
   "attachments": {},
   "cell_type": "markdown",
   "metadata": {},
   "source": [
    "## 3. 函数\n",
    "\n",
    "- 格式：`def 函数名(参数列表):`\n",
    "- 参数列表直接写变量名称，同样不用写类型\n",
    "- 用 `=` 定义关键字参数，类似 C++ 中的默认参数\n",
    "- 用 `return` 返回返回值，可以是任意类型\n"
   ]
  },
  {
   "cell_type": "code",
   "execution_count": 85,
   "metadata": {},
   "outputs": [],
   "source": [
    "# 什么都不做的函数\n",
    "def f():\n",
    "    pass"
   ]
  },
  {
   "cell_type": "code",
   "execution_count": 86,
   "metadata": {},
   "outputs": [
    {
     "data": {
      "text/plain": [
       "3"
      ]
     },
     "execution_count": 86,
     "metadata": {},
     "output_type": "execute_result"
    }
   ],
   "source": [
    "# 加法\n",
    "def add(x, y):\n",
    "    a = x + y\n",
    "    return a\n",
    "\n",
    "\n",
    "add(1, 2)"
   ]
  },
  {
   "attachments": {},
   "cell_type": "markdown",
   "metadata": {},
   "source": [
    "python 不会检查传入的参数类型，这样既有灵活性，又有隐患；如果在函数内做的运算并不适合传入的参数，就会报错\n"
   ]
  },
  {
   "cell_type": "code",
   "execution_count": 87,
   "metadata": {},
   "outputs": [
    {
     "data": {
      "text/plain": [
       "'abcdef'"
      ]
     },
     "execution_count": 87,
     "metadata": {},
     "output_type": "execute_result"
    }
   ],
   "source": [
    "add(\"abc\", \"def\")"
   ]
  },
  {
   "cell_type": "code",
   "execution_count": 88,
   "metadata": {},
   "outputs": [
    {
     "ename": "TypeError",
     "evalue": "can only concatenate str (not \"int\") to str",
     "output_type": "error",
     "traceback": [
      "\u001b[0;31m---------------------------------------------------------------------------\u001b[0m",
      "\u001b[0;31mTypeError\u001b[0m                                 Traceback (most recent call last)",
      "Cell \u001b[0;32mIn[88], line 1\u001b[0m\n\u001b[0;32m----> 1\u001b[0m \u001b[43madd\u001b[49m\u001b[43m(\u001b[49m\u001b[38;5;124;43m\"\u001b[39;49m\u001b[38;5;124;43mabc\u001b[39;49m\u001b[38;5;124;43m\"\u001b[39;49m\u001b[43m,\u001b[49m\u001b[43m \u001b[49m\u001b[38;5;241;43m123\u001b[39;49m\u001b[43m)\u001b[49m\n",
      "Cell \u001b[0;32mIn[86], line 3\u001b[0m, in \u001b[0;36madd\u001b[0;34m(x, y)\u001b[0m\n\u001b[1;32m      2\u001b[0m \u001b[38;5;28;01mdef\u001b[39;00m \u001b[38;5;21madd\u001b[39m(x, y):\n\u001b[0;32m----> 3\u001b[0m     a \u001b[38;5;241m=\u001b[39m \u001b[43mx\u001b[49m\u001b[43m \u001b[49m\u001b[38;5;241;43m+\u001b[39;49m\u001b[43m \u001b[49m\u001b[43my\u001b[49m\n\u001b[1;32m      4\u001b[0m     \u001b[38;5;28;01mreturn\u001b[39;00m a\n",
      "\u001b[0;31mTypeError\u001b[0m: can only concatenate str (not \"int\") to str"
     ]
    }
   ],
   "source": [
    "add(\"abc\", 123)"
   ]
  },
  {
   "cell_type": "markdown",
   "metadata": {},
   "source": [
    "传入过多或者过少的参数也会报错\n"
   ]
  },
  {
   "cell_type": "code",
   "execution_count": 89,
   "metadata": {},
   "outputs": [
    {
     "ename": "TypeError",
     "evalue": "add() missing 1 required positional argument: 'y'",
     "output_type": "error",
     "traceback": [
      "\u001b[0;31m---------------------------------------------------------------------------\u001b[0m",
      "\u001b[0;31mTypeError\u001b[0m                                 Traceback (most recent call last)",
      "Cell \u001b[0;32mIn[89], line 1\u001b[0m\n\u001b[0;32m----> 1\u001b[0m \u001b[43madd\u001b[49m\u001b[43m(\u001b[49m\u001b[38;5;241;43m1\u001b[39;49m\u001b[43m)\u001b[49m\n",
      "\u001b[0;31mTypeError\u001b[0m: add() missing 1 required positional argument: 'y'"
     ]
    }
   ],
   "source": [
    "add(1)"
   ]
  },
  {
   "cell_type": "code",
   "execution_count": 90,
   "metadata": {},
   "outputs": [
    {
     "ename": "TypeError",
     "evalue": "add() takes 2 positional arguments but 3 were given",
     "output_type": "error",
     "traceback": [
      "\u001b[0;31m---------------------------------------------------------------------------\u001b[0m",
      "\u001b[0;31mTypeError\u001b[0m                                 Traceback (most recent call last)",
      "Cell \u001b[0;32mIn[90], line 1\u001b[0m\n\u001b[0;32m----> 1\u001b[0m \u001b[43madd\u001b[49m\u001b[43m(\u001b[49m\u001b[38;5;241;43m1\u001b[39;49m\u001b[43m,\u001b[49m\u001b[43m \u001b[49m\u001b[38;5;241;43m2\u001b[39;49m\u001b[43m,\u001b[49m\u001b[43m \u001b[49m\u001b[38;5;241;43m3\u001b[39;49m\u001b[43m)\u001b[49m\n",
      "\u001b[0;31mTypeError\u001b[0m: add() takes 2 positional arguments but 3 were given"
     ]
    }
   ],
   "source": [
    "add(1, 2, 3)"
   ]
  },
  {
   "attachments": {},
   "cell_type": "markdown",
   "metadata": {},
   "source": [
    "两种传参模式：\n",
    "\n",
    "- 位置模式：像上面这样按照位置传入参数\n",
    "- 关键字模式：使用 `a=123` 这样显式的指定参数名\n",
    "\n",
    "可以混合这两种模式，但是位置模式必须在关键字模式之前。\n"
   ]
  },
  {
   "cell_type": "code",
   "execution_count": 91,
   "metadata": {},
   "outputs": [
    {
     "name": "stdout",
     "output_type": "stream",
     "text": [
      "5\n",
      "barfoo\n",
      "5\n"
     ]
    }
   ],
   "source": [
    "print(add(x=2, y=3))\n",
    "print(add(y=\"foo\", x=\"bar\"))\n",
    "print(add(2, y=3))"
   ]
  },
  {
   "attachments": {},
   "cell_type": "markdown",
   "metadata": {},
   "source": [
    "#### 设定参数默认值\n",
    "\n",
    "可以在函数定义的时候给参数设定默认值，在调用时可以省略有默认值的参数：\n"
   ]
  },
  {
   "cell_type": "code",
   "execution_count": 92,
   "metadata": {},
   "outputs": [
    {
     "name": "stdout",
     "output_type": "stream",
     "text": [
      "4.0\n",
      "10.0\n"
     ]
    }
   ],
   "source": [
    "def quad(x, a=1, b=0, c=0):\n",
    "    return a * x**2 + b * x + c\n",
    "\n",
    "\n",
    "print(quad(2.0))\n",
    "print(quad(2.0, b=3))"
   ]
  },
  {
   "attachments": {},
   "cell_type": "markdown",
   "metadata": {},
   "source": [
    "#### 接收不定长参数\n",
    "\n",
    "下面这里 `*args` 表示将多余的位置参数作为元组传给 `args`\n"
   ]
  },
  {
   "cell_type": "code",
   "execution_count": 93,
   "metadata": {},
   "outputs": [
    {
     "name": "stdout",
     "output_type": "stream",
     "text": [
      "10\n",
      "3\n"
     ]
    }
   ],
   "source": [
    "def add(x, *args):\n",
    "    total = x\n",
    "    for arg in args:\n",
    "        total += arg\n",
    "    return total\n",
    "\n",
    "\n",
    "print(add(1, 2, 3, 4))\n",
    "print(add(1, 2))"
   ]
  },
  {
   "attachments": {},
   "cell_type": "markdown",
   "metadata": {},
   "source": [
    "下面这里 `**kwargs` 表示将多余的关键字参数作为字典传给 `kwargs`\n"
   ]
  },
  {
   "cell_type": "code",
   "execution_count": 94,
   "metadata": {},
   "outputs": [
    {
     "name": "stdout",
     "output_type": "stream",
     "text": [
      "adding  y\n",
      "adding  z\n",
      "adding  w\n",
      "46\n"
     ]
    }
   ],
   "source": [
    "def add(x, **kwargs):\n",
    "    total = x\n",
    "    for arg, value in kwargs.items():\n",
    "        print(\"adding \", arg)\n",
    "        total += value\n",
    "    return total\n",
    "\n",
    "\n",
    "print(add(10, y=11, z=12, w=13))"
   ]
  },
  {
   "attachments": {},
   "cell_type": "markdown",
   "metadata": {},
   "source": [
    "#### 返回多个值\n"
   ]
  },
  {
   "cell_type": "code",
   "execution_count": 95,
   "metadata": {},
   "outputs": [
    {
     "name": "stdout",
     "output_type": "stream",
     "text": [
      "1 2 3\n"
     ]
    }
   ],
   "source": [
    "def f():\n",
    "    return 1, 2, 3\n",
    "\n",
    "\n",
    "a, b, c = f()\n",
    "print(a, b, c)"
   ]
  },
  {
   "attachments": {},
   "cell_type": "markdown",
   "metadata": {},
   "source": [
    "事实上这里的多个返回值自动变成了一个元组，而元组和数组都可以用这种赋值方法把它里面的东西对应赋值给各个变量\n"
   ]
  },
  {
   "cell_type": "code",
   "execution_count": 96,
   "metadata": {},
   "outputs": [],
   "source": [
    "a, b = 1, 2  # 自动构造元组\n",
    "a, b = (1, 2)  # 元组\n",
    "a, b = [1, 2]  # 列表"
   ]
  },
  {
   "cell_type": "markdown",
   "metadata": {},
   "source": [
    "但是两边的数目要对应，不然会报错\n"
   ]
  },
  {
   "cell_type": "code",
   "execution_count": 97,
   "metadata": {},
   "outputs": [
    {
     "ename": "ValueError",
     "evalue": "not enough values to unpack (expected 3, got 2)",
     "output_type": "error",
     "traceback": [
      "\u001b[0;31m---------------------------------------------------------------------------\u001b[0m",
      "\u001b[0;31mValueError\u001b[0m                                Traceback (most recent call last)",
      "Cell \u001b[0;32mIn[97], line 1\u001b[0m\n\u001b[0;32m----> 1\u001b[0m a, b, c \u001b[38;5;241m=\u001b[39m \u001b[38;5;241m1\u001b[39m, \u001b[38;5;241m2\u001b[39m\n",
      "\u001b[0;31mValueError\u001b[0m: not enough values to unpack (expected 3, got 2)"
     ]
    }
   ],
   "source": [
    "a, b, c = 1, 2"
   ]
  },
  {
   "cell_type": "code",
   "execution_count": 98,
   "metadata": {},
   "outputs": [
    {
     "ename": "ValueError",
     "evalue": "too many values to unpack (expected 2)",
     "output_type": "error",
     "traceback": [
      "\u001b[0;31m---------------------------------------------------------------------------\u001b[0m",
      "\u001b[0;31mValueError\u001b[0m                                Traceback (most recent call last)",
      "Cell \u001b[0;32mIn[98], line 1\u001b[0m\n\u001b[0;32m----> 1\u001b[0m a, b \u001b[38;5;241m=\u001b[39m \u001b[38;5;241m1\u001b[39m, \u001b[38;5;241m2\u001b[39m, \u001b[38;5;241m3\u001b[39m\n",
      "\u001b[0;31mValueError\u001b[0m: too many values to unpack (expected 2)"
     ]
    }
   ],
   "source": [
    "a, b = 1, 2, 3"
   ]
  },
  {
   "cell_type": "markdown",
   "metadata": {},
   "source": [
    "当然，下面这两种情况虽然两边的 `,` 数目不同，但显然是不会报错的。这时，`a` 被赋值为一个元组。而 `x`, `y`, `z` 分别被赋值为 `a` 中的元素。\n"
   ]
  },
  {
   "cell_type": "code",
   "execution_count": 99,
   "metadata": {},
   "outputs": [],
   "source": [
    "a = 1, 2, 3"
   ]
  },
  {
   "cell_type": "code",
   "execution_count": 100,
   "metadata": {},
   "outputs": [],
   "source": [
    "x, y, z = a"
   ]
  },
  {
   "cell_type": "markdown",
   "metadata": {},
   "source": [
    "### 4. 输入输出\n"
   ]
  },
  {
   "attachments": {},
   "cell_type": "markdown",
   "metadata": {},
   "source": [
    "用 `input` 函数获取输入，可以传入字符串表示先显示一段话\n"
   ]
  },
  {
   "cell_type": "code",
   "execution_count": 101,
   "metadata": {},
   "outputs": [],
   "source": [
    "a = input(\"请输入：\")  # 在 vs code 里运行时会在上方弹出一个输入框"
   ]
  },
  {
   "cell_type": "markdown",
   "metadata": {},
   "source": [
    "输出我们已经很熟悉了，就是用 print\n"
   ]
  },
  {
   "cell_type": "code",
   "execution_count": 102,
   "metadata": {},
   "outputs": [
    {
     "name": "stdout",
     "output_type": "stream",
     "text": [
      "123\n"
     ]
    }
   ],
   "source": [
    "print(123)"
   ]
  },
  {
   "cell_type": "code",
   "execution_count": 103,
   "metadata": {},
   "outputs": [
    {
     "name": "stdout",
     "output_type": "stream",
     "text": [
      "a 的值是： 123\n"
     ]
    }
   ],
   "source": [
    "a = 123\n",
    "print(\"a 的值是：\", a)"
   ]
  },
  {
   "cell_type": "markdown",
   "metadata": {},
   "source": [
    "更复杂的输出可以利用前面介绍的模板字符串\n"
   ]
  },
  {
   "cell_type": "code",
   "execution_count": 104,
   "metadata": {},
   "outputs": [
    {
     "name": "stdout",
     "output_type": "stream",
     "text": [
      "a 的值是 003，b 的值是 3.14\n"
     ]
    }
   ],
   "source": [
    "a = 3\n",
    "b = 3.1415926535\n",
    "print(f\"a 的值是 {a:03d}，b 的值是 {b:.2f}\")"
   ]
  },
  {
   "cell_type": "markdown",
   "metadata": {},
   "source": [
    "## 5. 文件操作\n"
   ]
  },
  {
   "cell_type": "code",
   "execution_count": 105,
   "metadata": {},
   "outputs": [],
   "source": [
    "# 写文本文件\n",
    "# 第一个参数是文件路径\n",
    "# 第二个参数是打开模式：'w' 模式覆盖，'a' 模式追加\n",
    "# encoding 参数指定文件编码，常用的为 'utf8'，在中文 windows 系统上有时会碰到 'gb2312'\n",
    "with open(\"123.txt\", \"w\", encoding=\"utf8\") as f:\n",
    "    f.write(\"这是一行\\n\")\n",
    "    f.write(\"这是另一行\\n\")\n",
    "\n",
    "with open(\"123.txt\", \"a\", encoding=\"utf8\") as f:\n",
    "    f.write(\"再给你加一行\\n\")"
   ]
  },
  {
   "cell_type": "code",
   "execution_count": 106,
   "metadata": {},
   "outputs": [
    {
     "name": "stdout",
     "output_type": "stream",
     "text": [
      "这是一行\n",
      "\n",
      "这是另一行\n",
      "\n",
      "再给你加一行\n",
      "\n"
     ]
    }
   ],
   "source": [
    "# 读取文本文件，用 'r' 模式，用 encoding 指定文件编码\n",
    "with open(\"123.txt\", \"r\", encoding=\"utf8\") as f:\n",
    "    for i in f:  # 迭代每一行\n",
    "        print(i)  # 因为 print 默认会再加个换行，所以下面的显示中行与行之间有空行"
   ]
  },
  {
   "cell_type": "code",
   "execution_count": 107,
   "metadata": {},
   "outputs": [
    {
     "data": {
      "text/plain": [
       "'这是一行\\n这是另一行\\n再给你加一行\\n'"
      ]
     },
     "execution_count": 107,
     "metadata": {},
     "output_type": "execute_result"
    }
   ],
   "source": [
    "with open(\"123.txt\", \"r\", encoding=\"utf8\") as f:\n",
    "    a = f.read()  # 返回一个字符串\n",
    "a"
   ]
  },
  {
   "cell_type": "code",
   "execution_count": 108,
   "metadata": {},
   "outputs": [
    {
     "data": {
      "text/plain": [
       "['这是一行\\n', '这是另一行\\n', '再给你加一行\\n']"
      ]
     },
     "execution_count": 108,
     "metadata": {},
     "output_type": "execute_result"
    }
   ],
   "source": [
    "with open(\"123.txt\", \"r\", encoding=\"utf8\") as f:\n",
    "    a = f.readlines()  # 返回每一行的字符串的列表\n",
    "a"
   ]
  },
  {
   "attachments": {},
   "cell_type": "markdown",
   "metadata": {},
   "source": [
    "## 6. 包\n",
    "\n",
    "类似 C/C++ 中的 `#include` 语句，我们可以用 `import` 导入我们希望用的包\n"
   ]
  },
  {
   "cell_type": "code",
   "execution_count": 109,
   "metadata": {},
   "outputs": [
    {
     "data": {
      "text/plain": [
       "0.7071067811865475"
      ]
     },
     "execution_count": 109,
     "metadata": {},
     "output_type": "execute_result"
    }
   ],
   "source": [
    "import math\n",
    "\n",
    "math.sin(math.pi / 4)"
   ]
  },
  {
   "cell_type": "markdown",
   "metadata": {},
   "source": [
    "也可以只导入部分函数\n"
   ]
  },
  {
   "cell_type": "code",
   "execution_count": 110,
   "metadata": {},
   "outputs": [
    {
     "data": {
      "text/plain": [
       "0.8414709848078965"
      ]
     },
     "execution_count": 110,
     "metadata": {},
     "output_type": "execute_result"
    }
   ],
   "source": [
    "from math import sin\n",
    "\n",
    "sin(1)"
   ]
  },
  {
   "cell_type": "markdown",
   "metadata": {},
   "source": [
    "导入多个函数\n"
   ]
  },
  {
   "cell_type": "code",
   "execution_count": 111,
   "metadata": {},
   "outputs": [
    {
     "data": {
      "text/plain": [
       "0.5403023058681398"
      ]
     },
     "execution_count": 111,
     "metadata": {},
     "output_type": "execute_result"
    }
   ],
   "source": [
    "from math import sin\n",
    "from math import cos\n",
    "\n",
    "# 或者\n",
    "\n",
    "from math import sin, cos\n",
    "\n",
    "cos(1)"
   ]
  },
  {
   "cell_type": "markdown",
   "metadata": {},
   "source": [
    "给导入的函数换个名字\n"
   ]
  },
  {
   "cell_type": "code",
   "execution_count": 112,
   "metadata": {},
   "outputs": [
    {
     "data": {
      "text/plain": [
       "0.8414709848078965"
      ]
     },
     "execution_count": 112,
     "metadata": {},
     "output_type": "execute_result"
    }
   ],
   "source": [
    "from math import sin as a_ba_a_ba\n",
    "\n",
    "a_ba_a_ba(1)"
   ]
  },
  {
   "attachments": {},
   "cell_type": "markdown",
   "metadata": {},
   "source": [
    "导入包中的全部内容 **（不推荐这样做，这样其他人在阅读代码时不清楚 `sin` 是从哪里来的）**\n"
   ]
  },
  {
   "cell_type": "code",
   "execution_count": 113,
   "metadata": {},
   "outputs": [
    {
     "data": {
      "text/plain": [
       "1.0"
      ]
     },
     "execution_count": 113,
     "metadata": {},
     "output_type": "execute_result"
    }
   ],
   "source": [
    "from math import *\n",
    "\n",
    "sin(pi / 2)"
   ]
  },
  {
   "attachments": {},
   "cell_type": "markdown",
   "metadata": {},
   "source": [
    "## 7. 类\n",
    "\n",
    "基本格式如下\n"
   ]
  },
  {
   "cell_type": "code",
   "execution_count": 114,
   "metadata": {},
   "outputs": [],
   "source": [
    "class A:\n",
    "    def __init__(self):\n",
    "        self.a = 1\n",
    "\n",
    "    def f(self, x):\n",
    "        self.b = 1\n",
    "        return self.a + x"
   ]
  },
  {
   "attachments": {},
   "cell_type": "markdown",
   "metadata": {},
   "source": [
    "- python 中以 `__` 开头和结尾的是特殊的函数或变量\n",
    "- 这里 `__init__` 函数会在对象创建时执行，可以理解为构造函数\n",
    "- 不以 `_` 或 `__` 开头的函数都是 `public` 的\n",
    "- 非静态类成员函数在被调用时会将类对象作为第一个参数传入，一般约定用 `self` 作为参数名\n",
    "- 在任何函数中，都可以通过 `self.xxx = xxx` 的方式给对象添加新的属性\n",
    "\n",
    "如果需要继承，基本格式如下\n"
   ]
  },
  {
   "cell_type": "code",
   "execution_count": 115,
   "metadata": {},
   "outputs": [],
   "source": [
    "class B(A):\n",
    "    def __init__(self):\n",
    "        super().__init__()\n",
    "        ..."
   ]
  },
  {
   "attachments": {},
   "cell_type": "markdown",
   "metadata": {},
   "source": [
    "这里 `super()` 会返回它所继承的父类（即 `A`），`super().__init__()` 表示调用父类的 `__init__` 函数。\n",
    "\n",
    "简单来说，继承的作用是可以让 `B` 使用 `A` 中定义的属性和函数，例如：\n"
   ]
  },
  {
   "cell_type": "code",
   "execution_count": 116,
   "metadata": {},
   "outputs": [],
   "source": [
    "class A:\n",
    "    def __init__(self, x):\n",
    "        self.x = x\n",
    "\n",
    "    def print_x(self):\n",
    "        print(self.x)\n",
    "\n",
    "\n",
    "class B(A):\n",
    "    def __init__(self, y):\n",
    "        super().__init__(233)  # 给 A 的 __init__ 传入参数 x=233\n",
    "        self.y = y\n",
    "\n",
    "    def print_y(self):\n",
    "        print(self.y)"
   ]
  },
  {
   "cell_type": "code",
   "execution_count": 117,
   "metadata": {},
   "outputs": [
    {
     "name": "stdout",
     "output_type": "stream",
     "text": [
      "3\n"
     ]
    }
   ],
   "source": [
    "b = B(3)\n",
    "b.print_y()"
   ]
  },
  {
   "cell_type": "markdown",
   "metadata": {},
   "source": [
    "B 继承了来自 A 的属性 `x` 和函数 `print_x`\n"
   ]
  },
  {
   "cell_type": "code",
   "execution_count": 118,
   "metadata": {},
   "outputs": [
    {
     "name": "stdout",
     "output_type": "stream",
     "text": [
      "233\n"
     ]
    }
   ],
   "source": [
    "print(b.x)"
   ]
  },
  {
   "cell_type": "code",
   "execution_count": 119,
   "metadata": {},
   "outputs": [
    {
     "name": "stdout",
     "output_type": "stream",
     "text": [
      "233\n"
     ]
    }
   ],
   "source": [
    "b.print_x()"
   ]
  },
  {
   "attachments": {},
   "cell_type": "markdown",
   "metadata": {},
   "source": [
    "前面提到 `type(x)` 可以用于获取对象 `x` 的类型，`isinstance(obj, cls)` 则可以用于判断对象 `obj` 所属的类型是否继承自类 `cls`\n"
   ]
  },
  {
   "cell_type": "code",
   "execution_count": 120,
   "metadata": {},
   "outputs": [],
   "source": [
    "class A:\n",
    "    pass\n",
    "\n",
    "\n",
    "class B(A):\n",
    "    pass\n",
    "\n",
    "\n",
    "a = A()\n",
    "b = B()"
   ]
  },
  {
   "cell_type": "code",
   "execution_count": 121,
   "metadata": {},
   "outputs": [
    {
     "data": {
      "text/plain": [
       "(True, True)"
      ]
     },
     "execution_count": 121,
     "metadata": {},
     "output_type": "execute_result"
    }
   ],
   "source": [
    "type(a) is A, type(b) is B  # 注意这里因为是比较对象，我们用 is 而不是 =="
   ]
  },
  {
   "cell_type": "code",
   "execution_count": 122,
   "metadata": {},
   "outputs": [
    {
     "data": {
      "text/plain": [
       "(True, False)"
      ]
     },
     "execution_count": 122,
     "metadata": {},
     "output_type": "execute_result"
    }
   ],
   "source": [
    "isinstance(a, A), isinstance(a, B)"
   ]
  },
  {
   "cell_type": "code",
   "execution_count": 123,
   "metadata": {},
   "outputs": [
    {
     "data": {
      "text/plain": [
       "(True, True)"
      ]
     },
     "execution_count": 123,
     "metadata": {},
     "output_type": "execute_result"
    }
   ],
   "source": [
    "isinstance(b, A), isinstance(b, B)"
   ]
  },
  {
   "attachments": {},
   "cell_type": "markdown",
   "metadata": {},
   "source": [
    "## 8. 异常处理\n",
    "\n",
    "基本格式如下\n"
   ]
  },
  {
   "cell_type": "code",
   "execution_count": 124,
   "metadata": {},
   "outputs": [],
   "source": [
    "try:\n",
    "    ...\n",
    "except ...:\n",
    "    ...\n",
    "else:  # 可省略\n",
    "    ...\n",
    "finally:  # 可省略\n",
    "    ..."
   ]
  },
  {
   "attachments": {},
   "cell_type": "markdown",
   "metadata": {},
   "source": [
    "- `try` 后面接可能会出错的代码\n",
    "- `except` 后面接要捕获的错误类型，不接等价于 `except Exception`，能捕获大部分错误类型；里面写出错后要执行的代码\n",
    "- `else` 后面是不出错时执行的代码\n",
    "- `finally` 后面是无论出不出错都会执行的代码\n",
    "- 用 `raise` 抛出一个指定类型的错误\n",
    "- 用 `assert` 在断言为假时抛出一个 `AssertionError` 类型的错误\n",
    "\n",
    "以下是一些抛出异常的例子：\n"
   ]
  },
  {
   "cell_type": "code",
   "execution_count": 125,
   "metadata": {},
   "outputs": [
    {
     "ename": "ValueError",
     "evalue": "",
     "output_type": "error",
     "traceback": [
      "\u001b[0;31m---------------------------------------------------------------------------\u001b[0m",
      "\u001b[0;31mValueError\u001b[0m                                Traceback (most recent call last)",
      "Cell \u001b[0;32mIn[125], line 1\u001b[0m\n\u001b[0;32m----> 1\u001b[0m \u001b[38;5;28;01mraise\u001b[39;00m \u001b[38;5;167;01mValueError\u001b[39;00m\n",
      "\u001b[0;31mValueError\u001b[0m: "
     ]
    }
   ],
   "source": [
    "raise ValueError"
   ]
  },
  {
   "cell_type": "code",
   "execution_count": 126,
   "metadata": {},
   "outputs": [
    {
     "ename": "ValueError",
     "evalue": "报错信息",
     "output_type": "error",
     "traceback": [
      "\u001b[0;31m---------------------------------------------------------------------------\u001b[0m",
      "\u001b[0;31mValueError\u001b[0m                                Traceback (most recent call last)",
      "Cell \u001b[0;32mIn[126], line 1\u001b[0m\n\u001b[0;32m----> 1\u001b[0m \u001b[38;5;28;01mraise\u001b[39;00m \u001b[38;5;167;01mValueError\u001b[39;00m(\u001b[38;5;124m\"\u001b[39m\u001b[38;5;124m报错信息\u001b[39m\u001b[38;5;124m\"\u001b[39m)\n",
      "\u001b[0;31mValueError\u001b[0m: 报错信息"
     ]
    }
   ],
   "source": [
    "raise ValueError(\"报错信息\")"
   ]
  },
  {
   "cell_type": "code",
   "execution_count": 127,
   "metadata": {},
   "outputs": [
    {
     "ename": "AssertionError",
     "evalue": "",
     "output_type": "error",
     "traceback": [
      "\u001b[0;31m---------------------------------------------------------------------------\u001b[0m",
      "\u001b[0;31mAssertionError\u001b[0m                            Traceback (most recent call last)",
      "Cell \u001b[0;32mIn[127], line 1\u001b[0m\n\u001b[0;32m----> 1\u001b[0m \u001b[38;5;28;01massert\u001b[39;00m \u001b[38;5;241m1\u001b[39m \u001b[38;5;241m+\u001b[39m \u001b[38;5;241m1\u001b[39m \u001b[38;5;241m==\u001b[39m \u001b[38;5;241m3\u001b[39m\n",
      "\u001b[0;31mAssertionError\u001b[0m: "
     ]
    }
   ],
   "source": [
    "assert 1 + 1 == 3"
   ]
  },
  {
   "cell_type": "code",
   "execution_count": null,
   "metadata": {},
   "outputs": [
    {
     "ename": "AssertionError",
     "evalue": "一加一难道不等于三吗？",
     "output_type": "error",
     "traceback": [
      "\u001b[1;31m---------------------------------------------------------------------------\u001b[0m",
      "\u001b[1;31mAssertionError\u001b[0m                            Traceback (most recent call last)",
      "Cell \u001b[1;32mIn[7], line 1\u001b[0m\n\u001b[1;32m----> 1\u001b[0m \u001b[39massert\u001b[39;00m \u001b[39m1\u001b[39m\u001b[39m+\u001b[39m\u001b[39m1\u001b[39m\u001b[39m==\u001b[39m\u001b[39m3\u001b[39m, \u001b[39m'\u001b[39m\u001b[39m一加一难道不等于三吗？\u001b[39m\u001b[39m'\u001b[39m\n",
      "\u001b[1;31mAssertionError\u001b[0m: 一加一难道不等于三吗？"
     ]
    }
   ],
   "source": [
    "assert 1 + 1 == 3, \"一加一难道不等于三吗？\""
   ]
  },
  {
   "attachments": {},
   "cell_type": "markdown",
   "metadata": {},
   "source": [
    "各个错误类型的继承关系如下，用`except`父类可以捕获子类错误\n",
    "\n",
    "```\n",
    "BaseException\n",
    " +-- SystemExit\n",
    " +-- KeyboardInterrupt：一般是^C\n",
    " +-- GeneratorExit\n",
    " +-- Exception：用户自定义的异常应该派生自此\n",
    "      +-- StopIteration\n",
    "      +-- StopAsyncIteration\n",
    "      +-- ArithmeticError\n",
    "      |    +-- FloatingPointError\n",
    "      |    +-- OverflowError\n",
    "      |    +-- ZeroDivisionError\n",
    "      +-- AssertionError\n",
    "      +-- AttributeError\n",
    "      +-- BufferError\n",
    "      +-- EOFError\n",
    "      +-- ImportError\n",
    "      |    +-- ModuleNotFoundError\n",
    "      +-- LookupError\n",
    "      |    +-- IndexError\n",
    "      |    +-- KeyError\n",
    "      +-- MemoryError\n",
    "      +-- NameError\n",
    "      |    +-- UnboundLocalError\n",
    "      +-- OSError\n",
    "      |    +-- BlockingIOError\n",
    "      |    +-- ChildProcessError\n",
    "      |    +-- ConnectionError\n",
    "      |    |    +-- BrokenPipeError\n",
    "      |    |    +-- ConnectionAbortedError\n",
    "      |    |    +-- ConnectionRefusedError\n",
    "      |    |    +-- ConnectionResetError\n",
    "      |    +-- FileExistsError\n",
    "      |    +-- FileNotFoundError\n",
    "      |    +-- InterruptedError\n",
    "      |    +-- IsADirectoryError\n",
    "      |    +-- NotADirectoryError\n",
    "      |    +-- PermissionError\n",
    "      |    +-- ProcessLookupError\n",
    "      |    +-- TimeoutError\n",
    "      +-- ReferenceError\n",
    "      +-- RuntimeError\n",
    "      |    +-- NotImplementedError\n",
    "      |    +-- RecursionError\n",
    "      +-- SyntaxError\n",
    "      |    +-- IndentationError\n",
    "      |         +-- TabError\n",
    "      +-- SystemError\n",
    "      +-- TypeError\n",
    "      +-- ValueError\n",
    "      |    +-- UnicodeError\n",
    "      |         +-- UnicodeDecodeError\n",
    "      |         +-- UnicodeEncodeError\n",
    "      |         +-- UnicodeTranslateError\n",
    "      +-- Warning\n",
    "           +-- DeprecationWarning\n",
    "           +-- PendingDeprecationWarning\n",
    "           +-- RuntimeWarning\n",
    "           +-- SyntaxWarning\n",
    "           +-- UserWarning\n",
    "           +-- FutureWarning\n",
    "           +-- ImportWarning\n",
    "           +-- UnicodeWarning\n",
    "           +-- BytesWarning\n",
    "           +-- EncodingWarning\n",
    "   +-- ResourceWarning\n",
    "```\n"
   ]
  },
  {
   "attachments": {},
   "cell_type": "markdown",
   "metadata": {},
   "source": [
    "#### 其他 & 建议\n",
    "\n",
    "- 关于 python 版本\n",
    "\n",
    "  - 早期版本为 python2 或者简称 python，与现在的语法存在一定区别；虽然已经停止使用，但在网上查资料时可能会碰到，注意辨别\n",
    "\n",
    "  - 现在的版本为 python3，但不同的 3.x 版本也有细微区别，目前最新的正式版为 3.12，建议**最低使用 3.8 版本**，但也**不要使用太新的版本**，部分库可能不支持高版本\n",
    "\n",
    "- 关于查资料\n",
    "\n",
    "  - 如果条件允许，在谷歌上搜索问题，用英语搜索问题，查看 stack overflow 的解答，注意回答年份\n",
    "\n",
    "  - 有时间的话看看 python 官方文档：https://docs.python.org/zh-cn/3/ ，详细学习 python 知识，或者是查询语法、函数，比看其他人写的博客更好\n"
   ]
  },
  {
   "attachments": {},
   "cell_type": "markdown",
   "metadata": {},
   "source": [
    "#### 养成良好的编程习惯\n",
    "\n",
    "**写代码不仅要符合语法规范，也要符合通常的习惯、便于阅读**\n",
    "\n",
    "建议按照本讲提供的 “Python Formatter and Linter Installation.pdf” 文档安装 formatter 与 linter，即可帮助你统一代码风格，避免低级错误。\n"
   ]
  },
  {
   "cell_type": "code",
   "execution_count": 128,
   "metadata": {},
   "outputs": [],
   "source": [
    "if a == True:  # ❌\n",
    "    ...\n",
    "\n",
    "if a:\n",
    "    ...\n",
    "\n",
    "if not a:\n",
    "    ..."
   ]
  },
  {
   "cell_type": "code",
   "execution_count": 129,
   "metadata": {},
   "outputs": [],
   "source": [
    "# fmt: off\n",
    "if (a == b):  # ❌\n",
    "    ...\n",
    "\n",
    "if a == b:\n",
    "    ..."
   ]
  },
  {
   "cell_type": "code",
   "execution_count": 130,
   "metadata": {},
   "outputs": [],
   "source": [
    "if not a == b:  # ❌\n",
    "    ...\n",
    "\n",
    "if a != b:\n",
    "    ..."
   ]
  },
  {
   "cell_type": "code",
   "execution_count": 131,
   "metadata": {},
   "outputs": [],
   "source": [
    "if (a == b) & (c == d):  # ❌\n",
    "    ...\n",
    "\n",
    "if a == b and c == d:\n",
    "    ..."
   ]
  },
  {
   "cell_type": "code",
   "execution_count": 132,
   "metadata": {},
   "outputs": [],
   "source": [
    "def f(x):\n",
    "    return x + 1\n",
    "\n",
    "\n",
    "numbers = []\n",
    "for i in range(10):\n",
    "    numbers.append(f(i))  # ❌\n",
    "\n",
    "numbers = list(map(f, range(10)))  # ❌\n",
    "\n",
    "numbers = [f(i) for i in range(10)]"
   ]
  },
  {
   "cell_type": "markdown",
   "metadata": {},
   "source": [
    "分清 `is` 和 `==` 的应用场合，基于对象的判断用 `is`，基于值的判断用 `==`\n"
   ]
  },
  {
   "cell_type": "code",
   "execution_count": 133,
   "metadata": {},
   "outputs": [],
   "source": [
    "if a == None:  # ❌\n",
    "    ...\n",
    "\n",
    "if a is None:\n",
    "    ..."
   ]
  },
  {
   "cell_type": "markdown",
   "metadata": {},
   "source": [
    "注意 `not` 的位置\n"
   ]
  },
  {
   "cell_type": "code",
   "execution_count": 134,
   "metadata": {},
   "outputs": [],
   "source": [
    "if not a is b:  # ❌\n",
    "    ...\n",
    "\n",
    "if a is not b:\n",
    "    ..."
   ]
  },
  {
   "cell_type": "code",
   "execution_count": null,
   "metadata": {},
   "outputs": [],
   "source": [
    "if not a in b:  # ❌\n",
    "    ...\n",
    "\n",
    "if a not in b:\n",
    "    ..."
   ]
  },
  {
   "cell_type": "markdown",
   "metadata": {},
   "source": [
    "一般使用 `with ... as ...` 打开文件，不要手动 `open` 和 `close`，因为这一结构能够保证在脱离 with 上下文以及发生错误时，自动关闭打开的文件。\n"
   ]
  },
  {
   "cell_type": "code",
   "execution_count": null,
   "metadata": {},
   "outputs": [],
   "source": [
    "f = open(...)\n",
    "f.write(...)\n",
    "f.close()  # ❌\n",
    "\n",
    "with open(...) as f:\n",
    "    f.write(...)"
   ]
  },
  {
   "cell_type": "code",
   "execution_count": null,
   "metadata": {},
   "outputs": [],
   "source": [
    "with open(...) as f:\n",
    "    for line in f.readlines():  # ❌\n",
    "        ...\n",
    "\n",
    "with open(...) as f:\n",
    "    for line in f:\n",
    "        ..."
   ]
  },
  {
   "cell_type": "markdown",
   "metadata": {},
   "source": [
    "善用 `range`、`enumerate`、`zip`\n"
   ]
  },
  {
   "cell_type": "code",
   "execution_count": null,
   "metadata": {},
   "outputs": [],
   "source": [
    "a = [1, 2, 3]\n",
    "\n",
    "for i in range(len(a)):  # ❌\n",
    "    x = a[i]\n",
    "\n",
    "for x in a:\n",
    "    ...\n",
    "\n",
    "for i, x in enumerate(a):\n",
    "    ..."
   ]
  },
  {
   "cell_type": "code",
   "execution_count": null,
   "metadata": {},
   "outputs": [],
   "source": [
    "b = [4, 5, 6]\n",
    "\n",
    "for i, x in enumerate(a):  # ❌\n",
    "    y = b[i]\n",
    "\n",
    "for x, y in zip(a, b):\n",
    "    ...\n",
    "\n",
    "for i, (x, y) in enumerate(zip(a, b)):\n",
    "    ..."
   ]
  },
  {
   "cell_type": "markdown",
   "metadata": {},
   "source": [
    "理解 python 中的变量都是指针/引用\n"
   ]
  },
  {
   "cell_type": "code",
   "execution_count": 137,
   "metadata": {},
   "outputs": [
    {
     "name": "stdout",
     "output_type": "stream",
     "text": [
      "[4, 2, 3] [4, 2, 3]\n"
     ]
    }
   ],
   "source": [
    "a = [1, 2, 3]\n",
    "b = a  # b 和 a 指向了同一个列表\n",
    "b[0] = 4  # 这里的赋值对 a, b 都有影响\n",
    "print(a, b)"
   ]
  },
  {
   "cell_type": "code",
   "execution_count": 138,
   "metadata": {},
   "outputs": [
    {
     "name": "stdout",
     "output_type": "stream",
     "text": [
      "[1, 2, 3] [4, 2, 3]\n"
     ]
    }
   ],
   "source": [
    "# 想要复制列表，用\n",
    "b = a[:]\n",
    "# 或者\n",
    "b = list(a)\n",
    "\n",
    "a = [1, 2, 3]\n",
    "b = a[:]\n",
    "b[0] = 4\n",
    "print(a, b)"
   ]
  },
  {
   "cell_type": "code",
   "execution_count": 139,
   "metadata": {},
   "outputs": [
    {
     "name": "stdout",
     "output_type": "stream",
     "text": [
      "[[4, 2, 3]] [[4, 2, 3]]\n"
     ]
    }
   ],
   "source": [
    "# 但这是“浅层”复制，如果列表中包含列表，不会对这些做复制\n",
    "a = [[1, 2, 3]]\n",
    "b = a[:]\n",
    "b[0][0] = 4\n",
    "print(a, b)"
   ]
  },
  {
   "cell_type": "code",
   "execution_count": 140,
   "metadata": {},
   "outputs": [],
   "source": [
    "# 想要深层复制任意对象，用\n",
    "from copy import deepcopy\n",
    "\n",
    "b = deepcopy(a)"
   ]
  }
 ],
 "metadata": {
  "kernelspec": {
   "display_name": "Python 3",
   "language": "python",
   "name": "python3"
  },
  "language_info": {
   "codemirror_mode": {
    "name": "ipython",
    "version": 3
   },
   "file_extension": ".py",
   "mimetype": "text/x-python",
   "name": "python",
   "nbconvert_exporter": "python",
   "pygments_lexer": "ipython3",
   "version": "3.9.16"
  },
  "orig_nbformat": 4,
  "vscode": {
   "interpreter": {
    "hash": "5ff187f48c898aaa9535692ba3afa361364e4b0957477ac51f7e5a035efb4944"
   }
  }
 },
 "nbformat": 4,
 "nbformat_minor": 2
}
